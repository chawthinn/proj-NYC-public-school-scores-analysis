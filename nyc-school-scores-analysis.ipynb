{
 "cells": [
  {
   "cell_type": "code",
   "execution_count": 2,
   "metadata": {},
   "outputs": [
    {
     "name": "stdout",
     "output_type": "stream",
     "text": [
      "<class 'pandas.core.frame.DataFrame'>\n",
      "RangeIndex: 375 entries, 0 to 374\n",
      "Data columns (total 7 columns):\n",
      " #   Column           Non-Null Count  Dtype  \n",
      "---  ------           --------------  -----  \n",
      " 0   school_name      375 non-null    object \n",
      " 1   borough          375 non-null    object \n",
      " 2   building_code    375 non-null    object \n",
      " 3   average_math     375 non-null    int64  \n",
      " 4   average_reading  375 non-null    int64  \n",
      " 5   average_writing  375 non-null    int64  \n",
      " 6   percent_tested   355 non-null    float64\n",
      "dtypes: float64(1), int64(3), object(3)\n",
      "memory usage: 20.6+ KB\n",
      "None\n",
      "       average_math  average_reading  average_writing  percent_tested\n",
      "count    375.000000       375.000000       375.000000      355.000000\n",
      "mean     432.944000       424.504000       418.458667       64.976338\n",
      "std       71.952373        61.881069        64.548599       18.747634\n",
      "min      317.000000       302.000000       284.000000       18.500000\n",
      "25%      386.000000       386.000000       382.000000       50.950000\n",
      "50%      415.000000       413.000000       403.000000       64.800000\n",
      "75%      458.500000       445.000000       437.500000       79.600000\n",
      "max      754.000000       697.000000       693.000000      100.000000\n"
     ]
    }
   ],
   "source": [
    "# Re-run this cell \n",
    "import pandas as pd\n",
    "\n",
    "# Read in the data\n",
    "schools = pd.read_csv(\"schools.csv\")\n",
    "\n",
    "# Preview the data\n",
    "schools.head()\n",
    "print(schools.info())\n",
    "print(schools.describe())"
   ]
  },
  {
   "cell_type": "markdown",
   "metadata": {},
   "source": [
    "#### Which NYC schools have best math scores?\n",
    "\n",
    "Subset the data to find the schools with math scores of at least 80%, considering the maximum possible score is 800 and save this as a pandas DataFrame called best_math_schools."
   ]
  },
  {
   "cell_type": "code",
   "execution_count": 3,
   "metadata": {},
   "outputs": [
    {
     "name": "stdout",
     "output_type": "stream",
     "text": [
      "                                           school_name  average_math\n",
      "88                              Stuyvesant High School           754\n",
      "170                       Bronx High School of Science           714\n",
      "93                 Staten Island Technical High School           711\n",
      "365  Queens High School for the Sciences at York Co...           701\n",
      "68   High School for Mathematics, Science, and Engi...           683\n",
      "280                     Brooklyn Technical High School           682\n",
      "333                        Townsend Harris High School           680\n",
      "174  High School of American Studies at Lehman College           669\n",
      "0    New Explorations into Science, Technology and ...           657\n",
      "45                       Eleanor Roosevelt High School           641\n"
     ]
    }
   ],
   "source": [
    "# Subset by math scores at least 80% of 800\n",
    "best_math_schools = schools[schools['average_math'] >= 640]\n",
    "\n",
    "# Select the columns 'school_name' and 'average_math'\n",
    "best_math_schools = best_math_schools[['school_name', 'average_math']]\n",
    "\n",
    "# Sort by 'average_math' in descending order\n",
    "best_math_schools = best_math_schools.sort_values(by='average_math', ascending=False)\n",
    "\n",
    "# Display the results\n",
    "print(best_math_schools)\n"
   ]
  },
  {
   "cell_type": "markdown",
   "metadata": {},
   "source": [
    "#### What are the top 10 performing schools based on the combined SAT scores? \n",
    "\n",
    "Find the 10 best performing schools based on the total score across the three SAT sections.\n",
    "\n",
    "\n"
   ]
  },
  {
   "cell_type": "code",
   "execution_count": 4,
   "metadata": {},
   "outputs": [
    {
     "name": "stdout",
     "output_type": "stream",
     "text": [
      "                                           school_name  total_SAT\n",
      "88                              Stuyvesant High School       2144\n",
      "170                       Bronx High School of Science       2041\n",
      "93                 Staten Island Technical High School       2041\n",
      "174  High School of American Studies at Lehman College       2013\n",
      "333                        Townsend Harris High School       1981\n",
      "365  Queens High School for the Sciences at York Co...       1947\n",
      "5                       Bard High School Early College       1914\n",
      "280                     Brooklyn Technical High School       1896\n",
      "45                       Eleanor Roosevelt High School       1889\n",
      "68   High School for Mathematics, Science, and Engi...       1889\n"
     ]
    }
   ],
   "source": [
    "# Create new column to store total scores\n",
    "schools['total_SAT'] = (\n",
    "    schools['average_math'] + \n",
    "    schools['average_reading'] + \n",
    "    schools['average_writing']\n",
    ")\n",
    "\n",
    "# Select the columns 'school_name' and 'total_SAT'\n",
    "top_10_schools = schools[['school_name', 'total_SAT']]\n",
    "\n",
    "# Sort by 'total_SAT' in descending order\n",
    "top_10_schools = top_10_schools.sort_values(by='total_SAT', ascending=False)\n",
    "\n",
    "# Select only top 10 schools\n",
    "top_10_schools = top_10_schools.head(10)\n",
    "\n",
    "# Display the top 10 schools\n",
    "print(top_10_schools)"
   ]
  },
  {
   "cell_type": "markdown",
   "metadata": {},
   "source": [
    "#### Which single borough has the largest standard deviation in the combined SAT score?\n",
    "\n",
    "Find out the number of schools, average SAT, and standard deviation of SAT for the NYC borough with the largest standard deviation, rounded to two decimal places.\n"
   ]
  },
  {
   "cell_type": "code",
   "execution_count": 5,
   "metadata": {},
   "outputs": [
    {
     "name": "stdout",
     "output_type": "stream",
     "text": [
      "     borough  num_schools  average_SAT  std_SAT\n",
      "0  Manhattan           89      1340.13   230.29\n"
     ]
    }
   ],
   "source": [
    "# Group schools by borough\n",
    "grouped_by_borough = schools.groupby('borough')\n",
    "\n",
    "# Calculate the standard deviation of 'total_SAT' of each borough\n",
    "std_by_borough = grouped_by_borough['total_SAT'].std()\n",
    "\n",
    "# Identify the borough with largest std\n",
    "largest_std_borough = std_by_borough.idxmax()\n",
    "\n",
    "# Filter the data for the borough with the largest standard deviation\n",
    "filtered_borough_data = schools[schools['borough'] == largest_std_borough]\n",
    "\n",
    "# Calculate the number of schools, average SAT, and standard deviation for that borough\n",
    "num_schools = filtered_borough_data['borough'].count()\n",
    "average_SAT = filtered_borough_data['total_SAT'].mean()\n",
    "std_SAT = filtered_borough_data['total_SAT'].std()\n",
    "\n",
    "# Round the numeric values to two decimal places\n",
    "num_schools = round(num_schools, 2)\n",
    "average_SAT = round(average_SAT, 2)\n",
    "std_SAT = round(std_SAT, 2)\n",
    "\n",
    "# Create a DataFrame with the result\n",
    "largest_std_dev = pd.DataFrame({\n",
    "    'borough': [largest_std_borough],\n",
    "    'num_schools': [num_schools],\n",
    "    'average_SAT': [average_SAT],\n",
    "    'std_SAT': [std_SAT]\n",
    "})\n",
    "\n",
    "# Display the result\n",
    "print(largest_std_dev)"
   ]
  }
 ],
 "metadata": {
  "kernelspec": {
   "display_name": "Python 3",
   "language": "python",
   "name": "python3"
  },
  "language_info": {
   "codemirror_mode": {
    "name": "ipython",
    "version": 3
   },
   "file_extension": ".py",
   "mimetype": "text/x-python",
   "name": "python",
   "nbconvert_exporter": "python",
   "pygments_lexer": "ipython3",
   "version": "3.12.7"
  }
 },
 "nbformat": 4,
 "nbformat_minor": 2
}
